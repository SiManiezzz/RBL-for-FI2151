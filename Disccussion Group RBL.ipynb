{
 "cells": [
  {
   "cell_type": "markdown",
   "id": "5b86421f-a073-4a64-a73a-735f1cf35f32",
   "metadata": {},
   "source": [
    "# Group Disscussion"
   ]
  },
  {
   "cell_type": "raw",
   "id": "d81f1d31-f8a5-49bf-8197-4b69b961de7c",
   "metadata": {},
   "source": [
    "    Pada Kamis, 12 Desember 2024, pukul 11.00 WIB, kelompok kami mengadakan diskusi selama waktu kuliah untuk menentukan topik yang akan digunakan dalam proyek RBL. Setelah berdiskusi, kami mempresentasikan dua opsi topik secara singkat kepada dosen pengampu untuk mendapatkan masukan dan saran. Akhirnya, kelompok kami sepakat memilih salah satu dari dua topik tersebut sebagai fokus utama proyek.\n"
   ]
  },
  {
   "cell_type": "raw",
   "id": "97cecd82-c426-4d64-b8b2-f9d96b1e4183",
   "metadata": {},
   "source": [
    "    Pertemuan lanjutan dilakukan secara daring pada Selasa, 17 Desember 2024, pukul 20.00 WIB. Diskusi ini dipimpin oleh salah satu anggota, Ilham Ghufroni. Dalam pertemuan tersebut, pembagian tugas untuk proyek dilakukan dengan rincian sebagai berikut:\n",
    "    1. Ilham Ghufroni: Menyelesaikan notebook finalization dan menulis bagian abstract, background, serta method pada laporan.\n",
    "    2. Kristofer Adrian: Mengembangkan slides di platform OSD dan menulis bagian method pada laporan.\n",
    "    3. Santun Wiwaha: Membuat video presentasi untuk YouTube dan mengerjakan bagian results and discussion pada laporan.\n",
    "    4. Nurul Izzati: Bertanggung jawab pada diskusi terkait GitHub issues dan bagian results and discussion pada laporan.\n",
    "    Bagian kesimpulan (conclusion) dan daftar referensi (references) dikerjakan bersama-sama oleh seluruh anggota kelompok.\n"
   ]
  },
  {
   "cell_type": "raw",
   "id": "83a1fadb-cb89-49ab-82db-e42111d95bab",
   "metadata": {},
   "source": [
    "    Diskusi ketiga kelompok kami dilakukan melalui aplikasi LINE pada Rabu, 18 Desember 2024. Kami saling berbagi perkembangan tugas masing-masing, mengevaluasi hasil yang sudah dikerjakan, dan memberikan masukan untuk perbaikan. Dari diskusi ini, kami berhasil menyelesaikan sekitar 80% pembuatan PPT dan laporan.\n"
   ]
  },
  {
   "cell_type": "raw",
   "id": "78ad0832-b42d-4322-893e-edd62bef1295",
   "metadata": {},
   "source": [
    "    Diskusi keempat dilaksanakan secara tatap muka di kelas selama mata kuliah berlangsung pada tanggal 19 Desember 2024. Dalam pertemuan ini, dilakukan evaluasi dan pengembangan lebih lanjut terhadap tugas-tugas yang telah dikerjakan sebelumnya. Selain itu, disepakati jadwal untuk diskusi final sebelum pengumpulan tugas secara daring.\n"
   ]
  },
  {
   "cell_type": "raw",
   "id": "68f0ca99-f90f-4bbe-aea4-ad7914030698",
   "metadata": {},
   "source": [
    "    Diskusi akhir dilaksanakan secara daring pada 22 Desember 2024 pukul 20.00 WIB. Pembahasan difokuskan pada pengecekan ulang hasil grafik yang diperoleh, finalisasi seluruh subtopik pembahasan sistem yang telah dirancang, serta penentuan jadwal untuk presentasi daring.\n"
   ]
  }
 ],
 "metadata": {
  "kernelspec": {
   "display_name": "Python 3 (ipykernel)",
   "language": "python",
   "name": "python3"
  },
  "language_info": {
   "codemirror_mode": {
    "name": "ipython",
    "version": 3
   },
   "file_extension": ".py",
   "mimetype": "text/x-python",
   "name": "python",
   "nbconvert_exporter": "python",
   "pygments_lexer": "ipython3",
   "version": "3.12.6"
  }
 },
 "nbformat": 4,
 "nbformat_minor": 5
}
